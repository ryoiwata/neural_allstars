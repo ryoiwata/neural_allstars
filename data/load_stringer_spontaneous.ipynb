{
 "cells": [
  {
   "cell_type": "markdown",
   "metadata": {
    "execution": {},
    "id": "wN6xVmgXUryO"
   },
   "source": [
    "## Loading of Stringer spontaneous data\n",
    "\n",
    "includes some visualizations"
   ]
  },
  {
   "cell_type": "raw",
   "metadata": {
    "cellView": "form",
    "colab": {
     "base_uri": "https://localhost:8080/"
    },
    "execution": {},
    "id": "y-EzpkEfUryW",
    "outputId": "c14be738-f5d2-40f8-b2cb-c5da7dd98282"
   },
   "source": [
    "# @title Install dependencies\n",
    "!pip install umap-learn --quiet"
   ]
  },
  {
   "cell_type": "code",
   "execution_count": 1,
   "metadata": {
    "id": "i2rszkyuUryY"
   },
   "outputs": [
    {
     "name": "stderr",
     "output_type": "stream",
     "text": [
      "C:\\Users\\Leo\\miniconda3\\envs\\nma-compneuro\\lib\\site-packages\\umap\\distances.py:1063: NumbaDeprecationWarning: \u001b[1mThe 'nopython' keyword argument was not supplied to the 'numba.jit' decorator. The implicit default value for this argument is currently False, but it will be changed to True in Numba 0.59.0. See https://numba.readthedocs.io/en/stable/reference/deprecation.html#deprecation-of-object-mode-fall-back-behaviour-when-using-jit for details.\u001b[0m\n",
      "  @numba.jit()\n",
      "C:\\Users\\Leo\\miniconda3\\envs\\nma-compneuro\\lib\\site-packages\\umap\\distances.py:1071: NumbaDeprecationWarning: \u001b[1mThe 'nopython' keyword argument was not supplied to the 'numba.jit' decorator. The implicit default value for this argument is currently False, but it will be changed to True in Numba 0.59.0. See https://numba.readthedocs.io/en/stable/reference/deprecation.html#deprecation-of-object-mode-fall-back-behaviour-when-using-jit for details.\u001b[0m\n",
      "  @numba.jit()\n",
      "C:\\Users\\Leo\\miniconda3\\envs\\nma-compneuro\\lib\\site-packages\\umap\\distances.py:1086: NumbaDeprecationWarning: \u001b[1mThe 'nopython' keyword argument was not supplied to the 'numba.jit' decorator. The implicit default value for this argument is currently False, but it will be changed to True in Numba 0.59.0. See https://numba.readthedocs.io/en/stable/reference/deprecation.html#deprecation-of-object-mode-fall-back-behaviour-when-using-jit for details.\u001b[0m\n",
      "  @numba.jit()\n",
      "C:\\Users\\Leo\\miniconda3\\envs\\nma-compneuro\\lib\\site-packages\\umap\\umap_.py:660: NumbaDeprecationWarning: \u001b[1mThe 'nopython' keyword argument was not supplied to the 'numba.jit' decorator. The implicit default value for this argument is currently False, but it will be changed to True in Numba 0.59.0. See https://numba.readthedocs.io/en/stable/reference/deprecation.html#deprecation-of-object-mode-fall-back-behaviour-when-using-jit for details.\u001b[0m\n",
      "  @numba.jit()\n"
     ]
    }
   ],
   "source": [
    "import numpy as np\n",
    "import matplotlib.pyplot as plt\n",
    "from umap import UMAP\n",
    "from scipy.ndimage import uniform_filter1d\n",
    "from scipy.stats import zscore\n",
    "from sklearn.decomposition import PCA"
   ]
  },
  {
   "cell_type": "code",
   "execution_count": 2,
   "metadata": {
    "cellView": "form",
    "id": "PEct1EsbUryZ"
   },
   "outputs": [],
   "source": [
    "# @title Figure settings\n",
    "from matplotlib import rcParams\n",
    "\n",
    "rcParams['figure.figsize'] = [20, 4]\n",
    "rcParams['font.size'] =15\n",
    "rcParams['axes.spines.top'] = False\n",
    "rcParams['axes.spines.right'] = False\n",
    "rcParams['figure.autolayout'] = True"
   ]
  },
  {
   "cell_type": "code",
   "execution_count": 5,
   "metadata": {
    "cellView": "form",
    "id": "HILv1MxpUrya"
   },
   "outputs": [
    {
     "ename": "OSError",
     "evalue": "[Errno 28] No space left on device",
     "output_type": "error",
     "traceback": [
      "\u001b[1;31m----------------------------------------------\u001b[0m",
      "\u001b[1;31mOSError\u001b[0m      Traceback (most recent call last)",
      "Cell \u001b[1;32mIn[5], line 17\u001b[0m\n\u001b[0;32m     15\u001b[0m \u001b[38;5;28;01melse\u001b[39;00m:\n\u001b[0;32m     16\u001b[0m   \u001b[38;5;28;01mwith\u001b[39;00m \u001b[38;5;28mopen\u001b[39m(fname, \u001b[38;5;124m\"\u001b[39m\u001b[38;5;124mwb\u001b[39m\u001b[38;5;124m\"\u001b[39m) \u001b[38;5;28;01mas\u001b[39;00m fid:\n\u001b[1;32m---> 17\u001b[0m     \u001b[43mfid\u001b[49m\u001b[38;5;241;43m.\u001b[39;49m\u001b[43mwrite\u001b[49m\u001b[43m(\u001b[49m\u001b[43mr\u001b[49m\u001b[38;5;241;43m.\u001b[39;49m\u001b[43mcontent\u001b[49m\u001b[43m)\u001b[49m\n",
      "\u001b[1;31mOSError\u001b[0m: [Errno 28] No space left on device"
     ]
    }
   ],
   "source": [
    "# @title Data retrieval\n",
    "import os, requests\n",
    "\n",
    "fname = \"stringer_spontaneous.npy\"\n",
    "url = \"https://osf.io/dpqaj/download\"\n",
    "\n",
    "if not os.path.isfile(fname):\n",
    "  try:\n",
    "    r = requests.get(url)\n",
    "  except requests.ConnectionError:\n",
    "    print(\"!!! Failed to download data !!!\")\n",
    "  else:\n",
    "    if r.status_code != requests.codes.ok:\n",
    "      print(\"!!! Failed to download data !!!\")\n",
    "    else:\n",
    "      with open(fname, \"wb\") as fid:\n",
    "        fid.write(r.content)"
   ]
  },
  {
   "cell_type": "code",
   "execution_count": null,
   "metadata": {
    "cellView": "form",
    "colab": {
     "base_uri": "https://localhost:8080/"
    },
    "id": "BnYiy3qxUrya",
    "outputId": "56d6a1bc-cc9b-41a1-8dae-cdb14f7d8c5c"
   },
   "outputs": [],
   "source": [
    "# @title Data loading\n",
    "\n",
    "dat = np.load('stringer_spontaneous.npy', allow_pickle=True).item()\n",
    "print(dat.keys())"
   ]
  },
  {
   "cell_type": "markdown",
   "metadata": {
    "execution": {},
    "id": "gs6snCtDUryb"
   },
   "source": [
    "\n",
    "dat has fields:\n",
    "* `dat['sresp']`: neurons by timebins, a.k.a. the neural response data (11983 by 7018). Timebin = 1.2 sec.\n",
    "* `dat['run']`: timebins by 1, a.k.a. the running speed of the animal in a.u.\n",
    "* `dat['xyz']`: three-dimensional position of each neuron in the brain.\n",
    "* `dat['pupilArea']`: timebins by 1, see FaceMap for details on the pupil tracker\n",
    "* `dat['pupilCOM']`: timebins by 2, correspond to X and Y position. See FaceMap for details on the pupil tracker.\n",
    "* `dat['beh_svd_time']`: timebins by 1,000. Timecourses of behavioral SVDs extracted from face movies. See FaceMap for details.\n",
    "* `dat['beh_svd_mask']`: 240 by 320 by 1,000. Spatial masks of behavioral SVDs. Roughly normalized to each other.\n",
    "* `dat['beh_svd_mask'] @ dat['beh_svd_time'][T, :]`:  reconstruction of the face movie (its motion energy) for frame T\n",
    "* `dat['stat']`: 1 by neurons, some statistics for each neuron, see Suite2p for full documentation."
   ]
  },
  {
   "cell_type": "code",
   "execution_count": null,
   "metadata": {
    "colab": {
     "base_uri": "https://localhost:8080/"
    },
    "id": "JOD6ZGx5Uryb",
    "outputId": "241e846c-ce42-4f18-adbb-6aa6b8dd816d"
   },
   "outputs": [],
   "source": [
    "print(dat['sresp'].shape)\n",
    "print(len(dat['stat']))"
   ]
  },
  {
   "cell_type": "code",
   "execution_count": null,
   "metadata": {
    "colab": {
     "base_uri": "https://localhost:8080/"
    },
    "id": "CUskCG4jVtlM",
    "outputId": "b26fccc2-4b98-42c3-d69d-72aade0598ff"
   },
   "outputs": [],
   "source": [
    "for k, v in dat.items():\n",
    "  print(\"Key: {}\".format(k))\n",
    "  print(v.shape)\n",
    "  try:\n",
    "    print(v[:5,:5,:5])\n",
    "  except:\n",
    "    print(v[:5,:5])\n"
   ]
  },
  {
   "cell_type": "code",
   "execution_count": null,
   "metadata": {
    "colab": {
     "base_uri": "https://localhost:8080/"
    },
    "id": "Ex6S0FJ8VFQO",
    "outputId": "eef2c3d8-3803-48de-e62d-9d6882cd3cec"
   },
   "outputs": [],
   "source": [
    "dat[\"sresp\"][0]"
   ]
  },
  {
   "cell_type": "code",
   "execution_count": null,
   "metadata": {
    "cellView": "form",
    "id": "Me56NzB8Uryc",
    "outputId": "f9d45740-48ea-4f25-e3f5-0ac0371fcbb0"
   },
   "outputs": [],
   "source": [
    "# @title plot the 3D positions of all neurons\n",
    "from mpl_toolkits.mplot3d import Axes3D\n",
    "from matplotlib import cm\n",
    "\n",
    "x, y, z = dat['xyz']\n",
    "\n",
    "zunq, iunq = np.unique(z, return_inverse=True)\n",
    "xc = np.linspace(0.0, 1.0, len(zunq))\n",
    "cmap = cm.get_cmap('jet')(xc)\n",
    "\n",
    "fig = plt.figure(figsize=(6, 6))\n",
    "ax = fig.add_subplot(111, projection='3d')\n",
    "ax.scatter(x[::-1],y[::-1], z[::-1], 'o', s=4, c=cmap[iunq])\n",
    "ax.set(xlabel='horizontal(um)', ylabel='vertical(um)', zlabel='depth (um)')\n",
    "plt.show()"
   ]
  },
  {
   "cell_type": "code",
   "execution_count": null,
   "metadata": {
    "cellView": "form",
    "id": "RB1kXKc1Uryf",
    "outputId": "37b478f7-4177-4a34-834d-0b4fd4e46f13"
   },
   "outputs": [],
   "source": [
    "# @title Basic properties of behavioral data using plot and scatter\n",
    "ax = plt.subplot(1, 5, 1)\n",
    "plt.plot(dat['pupilArea'][:500, 0])\n",
    "ax.set(xlabel='timepoints', ylabel='pupil area')\n",
    "\n",
    "ax = plt.subplot(1, 5, 2)\n",
    "plt.plot(dat['pupilCOM'][:500, :])\n",
    "ax.set(xlabel='timepoints', ylabel='pupil XY position')\n",
    "\n",
    "ax = plt.subplot(1, 5, 3)\n",
    "plt.plot(dat['beh_svd_time'][:500, 0])\n",
    "ax.set(xlabel='timepoints', ylabel='face SVD #0')\n",
    "\n",
    "ax = plt.subplot(1, 5, 4)\n",
    "plt.plot(dat['beh_svd_time'][:500, 1])\n",
    "ax.set(xlabel='timepoints', ylabel='face SVD #1')\n",
    "\n",
    "ax = plt.subplot(1, 5, 5)\n",
    "plt.scatter(dat['beh_svd_time'][:, 0], dat['beh_svd_time'][:, 1], s=1)\n",
    "ax.set(xlabel='face SVD #0', ylabel='face SVD #1')\n",
    "\n",
    "plt.show()"
   ]
  },
  {
   "cell_type": "code",
   "execution_count": null,
   "metadata": {
    "cellView": "form",
    "id": "FdR1CfUIUryg"
   },
   "outputs": [],
   "source": [
    "# @title take PCA after preparing data by z-score\n",
    "\n",
    "Z = zscore(dat['sresp'], axis=1)\n",
    "Z = np.nan_to_num(Z)\n",
    "X = PCA(n_components=200).fit_transform(Z)"
   ]
  },
  {
   "cell_type": "code",
   "execution_count": null,
   "metadata": {
    "cellView": "form",
    "id": "CoQfsOyjUryh",
    "outputId": "86b150ee-fbff-44b6-ed6e-da9e7e7ce7e0"
   },
   "outputs": [],
   "source": [
    "# @title Plot PCs. Too many points, switch to logarithmic hexbin!\n",
    "ax = plt.subplot(1, 5, 1)\n",
    "plt.scatter(X[:, 0], X[:, 1], s=4, alpha=.1)\n",
    "ax.set(xlabel='PC 0 ', ylabel='PC 1')\n",
    "\n",
    "ax = plt.subplot(1, 5, 2)\n",
    "plt.hexbin(X[:, 0], X[:, 1], gridsize=40, bins='log')\n",
    "ax.set(xlabel='PC 0 ', ylabel='PC 1', alpha=.1)\n",
    "\n",
    "plt.show()"
   ]
  },
  {
   "cell_type": "code",
   "execution_count": null,
   "metadata": {
    "cellView": "form",
    "id": "CZJp_hgpUryi",
    "outputId": "54e7daea-d04d-4dcf-e4dc-ecc0891ff77e"
   },
   "outputs": [],
   "source": [
    "# @title run a manifold embedding algorithm (UMAP) in two or three dimensions.\n",
    "\n",
    "ncomp = 1 # try 2, then try 3\n",
    "xinit = 1 * zscore(X[:, :ncomp], axis=0)\n",
    "embed = UMAP(n_components=ncomp, init=xinit, n_neighbors=20,\n",
    "             metric='correlation', transform_seed=42).fit_transform(X)"
   ]
  },
  {
   "cell_type": "code",
   "execution_count": null,
   "metadata": {
    "id": "uacaZx8ZUryj"
   },
   "outputs": [],
   "source": [
    "embed = embed.flatten()\n",
    "isort = np.argsort(embed)\n",
    "RasterMap = uniform_filter1d(Z[isort, :], size=50, axis=0)\n",
    "RasterMap = zscore(RasterMap[::10, :], axis=1)"
   ]
  },
  {
   "cell_type": "code",
   "execution_count": null,
   "metadata": {
    "id": "Znl2ucraUryj",
    "outputId": "6de794ae-8b63-4f8a-cfd3-d8e3f8112749"
   },
   "outputs": [],
   "source": [
    "plt.figure(figsize=(16, 8))\n",
    "ax = plt.subplot(111)\n",
    "trange = np.arange(1100, 1400)\n",
    "plt.imshow(RasterMap[:, trange], vmax= 3, vmin=-1, aspect='auto', cmap='gray_r')\n",
    "ax.set(xlabel='timepoints', ylabel='sorted neurons')\n",
    "plt.show()"
   ]
  },
  {
   "cell_type": "code",
   "execution_count": null,
   "metadata": {
    "id": "4XKGt-MCUryj"
   },
   "outputs": [],
   "source": [
    "# now sort with UMAP both the neuron axis and the timepoints axis, bin the sorted matrix and make a sorted Rastermap picture"
   ]
  }
 ],
 "metadata": {
  "colab": {
   "name": "load_stringer_spontaneous",
   "provenance": []
  },
  "kernel": {
   "display_name": "Python 3",
   "language": "python",
   "name": "python3"
  },
  "kernelspec": {
   "display_name": "Python 3 (ipykernel)",
   "language": "python",
   "name": "python3"
  },
  "language_info": {
   "codemirror_mode": {
    "name": "ipython",
    "version": 3
   },
   "file_extension": ".py",
   "mimetype": "text/x-python",
   "name": "python",
   "nbconvert_exporter": "python",
   "pygments_lexer": "ipython3",
   "version": "3.9.16"
  }
 },
 "nbformat": 4,
 "nbformat_minor": 4
}
